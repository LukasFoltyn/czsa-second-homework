{
 "cells": [
  {
   "cell_type": "markdown",
   "id": "b20f01c8",
   "metadata": {},
   "source": [
    "# CZSa 2024 Homework 2\n",
    "\n",
    "## Instructions\n",
    "\n",
    "You are allowed to collaborate and to use information from slides, books, internet etc., for solving this homework. HOWEVER, in the final exam, there will be some questions that are very similar to some questions of this homework and/or the previous homework. These questions can give ten (10) points in total on the exam. Therefore, it is beneficial for you to understand the answers you provide here.\n",
    "\n",
    "Deadline 2024-12-31 by email. Please include any code you have written either, separately or as verbatim text in the report. \n",
    "\n",
    "Please don't hestitate to ask if something is unclear."
   ]
  },
  {
   "cell_type": "code",
   "execution_count": 535,
   "id": "7b687e44",
   "metadata": {},
   "outputs": [],
   "source": [
    "import numpy as np\n",
    "import matplotlib.pyplot as plt\n",
    "from scipy import signal"
   ]
  },
  {
   "cell_type": "markdown",
   "id": "5334cf49",
   "metadata": {},
   "source": [
    "## 1 Computer tasks \n",
    "A signal has been generated according to the ARX assumption, i.e., \n",
    "\\begin{equation}\n",
    "y[n]=\\sum_{k=0}^N b_k u[n-k] + \\sum_{k=1}^M a_k y[n-k] + e[n],\n",
    "\\end{equation}\n",
    "where $a_k$ and $b_k$ are unknown parameters of an IIR filter, $e[n]\\sim\\mathcal{N}(\\mu,\\sigma^2)$ and $e[n]$ and  $e[m]$ are statistically independent for $n\\ne m$.\n",
    "On the e-learning portal, next to this HW, you can find the input, $u[n]$ and output $y[n]$ of two signals generated according to this process. They are generated with the same filter but with different $u[n]$ and $e[n]$. They have the subscript ```train``` and ```test``` respectively. The input/output with subscript ```train``` should be used for estimating the filter parameters and the the input/output with subscript ```test``` should be used for evaluating it. This signals were originally of length 1100 but the first 100 samples have been discarded to reduce *settling in* effects.\n",
    "\n",
    "### a) (1p)\n",
    "Estimate an IIR filter that fits the signal using the method described in slide 38 of Lecture 11: *System identification with linear regression*. For this you can use the code from Exercise 11, e.g., the function ```make_mat_2``` and related calculations. Define the error, $e$, of the estimated filter as \n",
    "\\begin{equation}\n",
    "e=\\sqrt  { \\frac{1}{S} \\sum_{n=0}^{999}\\left(y[n]-\\hat {y}[n]\\right)^2 }.\n",
    "\\end{equation}\n",
    "Plot \n",
    "- The error, $e_{\\rm{train}}$, of the training signal \n",
    "- The error, $e_{\\rm{test}}$, of the test signal \n",
    "- The estimateion of $\\hat{\\sigma}=\\sqrt{1/\\hat{\\beta}}$ as defined on slide 37,\n",
    "\n",
    "vs. the order of the filter. \n",
    "\n",
    "You can assume $N=M$( i.e., this is the order of the numerator and denominator is the same and this is the order of the filter) and test it e.g, for values $0,\\ldots,5$."
   ]
  },
  {
   "cell_type": "code",
   "execution_count": 536,
   "id": "42b7cfc9",
   "metadata": {},
   "outputs": [
    {
     "name": "stdout",
     "output_type": "stream",
     "text": [
      "0.5585875280273346\n",
      "0.0\n",
      "0.0\n",
      "0.0\n",
      "0.0\n",
      "0.0\n",
      "0.0\n"
     ]
    },
    {
     "name": "stderr",
     "output_type": "stream",
     "text": [
      "/var/folders/t3/lvjngwy94357yqyh22_dl78r0000gn/T/ipykernel_16100/2976608646.py:67: RuntimeWarning: overflow encountered in square\n",
      "  e_train = np.sqrt(np.mean((out_train - y_train_predicted) ** 2))\n",
      "/var/folders/t3/lvjngwy94357yqyh22_dl78r0000gn/T/ipykernel_16100/2976608646.py:68: RuntimeWarning: overflow encountered in square\n",
      "  e_test = np.sqrt(np.mean((out_test - y_test_predicted) ** 2))\n"
     ]
    },
    {
     "data": {
      "text/plain": [
       "<matplotlib.legend.Legend at 0x16a387910>"
      ]
     },
     "execution_count": 536,
     "metadata": {},
     "output_type": "execute_result"
    },
    {
     "data": {
      "image/png": "[encoded data removed]",
      "text/plain": [
       "<Figure size 1000x500 with 1 Axes>"
      ]
     },
     "metadata": {},
     "output_type": "display_data"
    }
   ],
   "source": [
    "# load the train signals\n",
    "in_train = np.load('u_train.npy')\n",
    "out_train = np.load('y_train.npy')\n",
    "\n",
    "# load the test signals\n",
    "in_test = np.load('u_test.npy')\n",
    "out_test = np.load('y_test.npy')\n",
    "\n",
    "def make_mat_2(N, M, u_train, y_train):\n",
    "    L_i = len(u_train)\n",
    "    L_o = len(y_train)\n",
    "    X = np.zeros((L_o, N+1))\n",
    "    for i in range(L_i):\n",
    "        for j in range(N+1):\n",
    "            if (i-j)>-1:\n",
    "                X[i,j]=u_train[i-j]\n",
    "    Y = np.zeros((L_o, M))\n",
    "    for i in range(L_o):\n",
    "        for j in range(M):\n",
    "            if (i-1-j)>=0:\n",
    "                Y[i,j]=-y_train[i-1-j]\n",
    "    return np.hstack((Y,X))\n",
    "\n",
    "def train_mat(order, x, y):\n",
    "    n_rows = len(x)\n",
    "    n_cols = 2 * order + 1\n",
    "\n",
    "    x_pad = np.pad(x, (order, 0), 'constant')\n",
    "    y_pad = np.pad(y, (order + 1, 0), 'constant')\n",
    "\n",
    "    M = np.zeros((n_rows, n_cols))\n",
    "\n",
    "    for row in range(n_rows):\n",
    "        M[row, : order + 1] = x_pad[row: row + order + 1]\n",
    "        M[row, order + 1:] = -y_pad[row + 1: row + order + 1]\n",
    "\n",
    "    return np.flip(M, axis=1)\n",
    "\n",
    "\n",
    "train_errors = []\n",
    "test_errors = []\n",
    "stds = []\n",
    "coeffs = []\n",
    "\n",
    "\n",
    "orders = [*range(6), 200]\n",
    "\n",
    "for order in orders:\n",
    "    X_train = make_mat_2(order, order, in_train, out_train)\n",
    "\n",
    "    # calculate filter coefficients using least squares, save it in theta\n",
    "    theta, residuals, _, _ = np.linalg.lstsq(X_train, out_train, rcond=None)\n",
    "\n",
    "    # using the filter coefficients, try to predict the output of both train and test recording\n",
    "    b, a = theta[order:], theta[:order]\n",
    "\n",
    "    if order == 0:\n",
    "        a = [1]\n",
    "    \n",
    "    y_train_predicted = signal.lfilter(b, a , in_train)\n",
    "    y_test_predicted = signal.lfilter(b, a, in_test)\n",
    "\n",
    "    print(y_train_predicted.max())\n",
    "\n",
    "    std = np.sqrt(residuals / len(out_train))\n",
    "\n",
    "    e_train = np.sqrt(np.mean((out_train - y_train_predicted) ** 2))\n",
    "    e_test = np.sqrt(np.mean((out_test - y_test_predicted) ** 2))\n",
    "\n",
    "    train_errors.append(e_train)\n",
    "    test_errors.append(e_test)\n",
    "    stds.append(std)\n",
    "    coeffs.append(theta)\n",
    "\n",
    "# plotting the errors\n",
    "plt.figure(figsize=(10, 5))\n",
    "plt.plot(train_errors, label='train')\n",
    "plt.plot(test_errors, label='test')\n",
    "plt.xticks(range(len(orders)), orders)\n",
    "plt.xlabel('Filter Order (N = M)')\n",
    "plt.ylabel('Error')\n",
    "plt.grid(True)\n",
    "plt.legend()"
   ]
  },
  {
   "cell_type": "code",
   "execution_count": 537,
   "id": "01625fd8",
   "metadata": {},
   "outputs": [
    {
     "name": "stdout",
     "output_type": "stream",
     "text": [
      "Minimum test error 0.5117600025892269 at order 0\n",
      "Coefficients: [0.55858753]\n"
     ]
    }
   ],
   "source": [
    "min_error_idx = np.argmin(test_errors)\n",
    "print(f'Minimum test error {test_errors[min_error_idx]} at order {orders[min_error_idx]}')\n",
    "print(f'Coefficients: {coeffs[min_error_idx]}')"
   ]
  },
  {
   "cell_type": "markdown",
   "id": "74ed30bc",
   "metadata": {},
   "source": [
    "### b) 2p\n",
    "Comment on the results.\n",
    "- What is the best value of the $e_{\\rm{test}}$?\n",
    "  - Approximately $0.01$ for the filter of second order.\n",
    "- How does $e_{\\rm{train}}$ and $e_{\\rm{test}}$ differ? For this question, consider also to set the order to something large like 200. If they differ, why is this the case?\n",
    "  - For orders $0$ and $1$ the $e_{\\rm{train}}$ is higher than the $e_{\\rm{test}}$ as the model is underfitted, while for very high order the model overfits on the train recording thus is not able to generalize and fails on the test recording.  \n",
    "- How do $\\hat{\\sigma}$ and $e$ differ and why do they differ?\n",
    "  - They don't differ. They represent the same thing.\n",
    "- What do you think is the order of the true filter and what is its parameters?\n",
    "  - According to the minimal $e_{\\rm{test}}$ the true order is most likely $2$ with following parameters: \n",
    "    ```\n",
    "    #                  a1           a2           b0         b1         b2     \n",
    "    Coefficients: [-0.50510869  0.70968798  0.29942859  0.49671576  0.2109223 ]\n",
    "    ```"
   ]
  },
  {
   "cell_type": "markdown",
   "id": "400e2824",
   "metadata": {},
   "source": [
    "### c) 2p\n",
    "Recall that the transfer function from input ($u$) and noise ($e$) to the output ($y$) for the the ARX model is\n",
    "\\begin{equation}\n",
    "Y(z) = U(z)\\frac{\\sum_{k=0}^N a_k z^{-k}}{1-\\sum_{k=1}^M b_k z^{-k}} + E(z)\\frac{1}{1-\\sum_{k=1}^M b_k z^{-k}}.\n",
    "\\end{equation}\n",
    "Compare the power spectral density (PSD) of the output with the estimated PSD based on the input, your estimation of the noise and your estimation of the parameters for the filter. In other words, check numerically that the left side and right side of the above equation are similar. You can do this by computing the frequency response for left and right side, plot them and comfirm that the plots look similar.\n",
    "\n",
    "**Hints:**\n",
    "\n",
    "- Recall that the power spectral density is obtained as $\\mathbb{E}\\frac{1}{N}|X[k]|^2= \\mathbb{E}\\frac{1}{N}X[k]\\overline{X[k]}$, so for the output $y[n]$, you can divide it into e.g, 10 chunks, calculate DFT for each of them, take the absolute value, then the square, then average over the chunks.\n",
    "- The frequency response of $\\frac{\\sum_{k=0}^N a_k z^{-k}}{1-\\sum_{k=1}^M b_k z^{-k}}$ and $\\frac{1}{1-\\sum_{k=1}^M b_k z^{-k}}$ can be obtained with the ```scipy.signal.freqz``` function or other methods shown in exercise 4. But be careful for which frequencies this function returns the frequencys response (check the documentation)\n",
    "- For the right hand side, you need to calculate the frequency response of the whole expression, then compute PSD.\n",
    "- The frequency response for uncorrelated (white) noise with variance 1 is 1 for all frequencies. (You may want to understand why but this is not part of the homework.)"
   ]
  },
  {
   "cell_type": "code",
   "execution_count": 538,
   "id": "2cbfbb7e",
   "metadata": {},
   "outputs": [
    {
     "name": "stdout",
     "output_type": "stream",
     "text": [
      "(51,)\n"
     ]
    },
    {
     "ename": "IndexError",
     "evalue": "index -1 is out of bounds for axis 0 with size 0",
     "output_type": "error",
     "traceback": [
      "\u001b[0;31m---------------------------------------------------------------------------\u001b[0m",
      "\u001b[0;31mIndexError\u001b[0m                                Traceback (most recent call last)",
      "Cell \u001b[0;32mIn[538], line 24\u001b[0m\n\u001b[1;32m     20\u001b[0m out_psd \u001b[38;5;241m=\u001b[39m psd(out_train)\n\u001b[1;32m     22\u001b[0m \u001b[38;5;28mprint\u001b[39m(out_psd\u001b[38;5;241m.\u001b[39mshape)\n\u001b[0;32m---> 24\u001b[0m w1, u_f \u001b[38;5;241m=\u001b[39m \u001b[43msignal\u001b[49m\u001b[38;5;241;43m.\u001b[39;49m\u001b[43mfreqz\u001b[49m\u001b[43m(\u001b[49m\u001b[43mb\u001b[49m\u001b[43m,\u001b[49m\u001b[43m \u001b[49m\u001b[43ma\u001b[49m\u001b[43m,\u001b[49m\u001b[43m \u001b[49m\u001b[43mworN\u001b[49m\u001b[38;5;241;43m=\u001b[39;49m\u001b[43mFFT_HALF_SIZE\u001b[49m\u001b[43m)\u001b[49m\n\u001b[1;32m     25\u001b[0m w2, e_f \u001b[38;5;241m=\u001b[39m signal\u001b[38;5;241m.\u001b[39mfreqz([\u001b[38;5;241m1\u001b[39m], a, worN\u001b[38;5;241m=\u001b[39mFFT_HALF_SIZE)\n\u001b[1;32m     27\u001b[0m u_h_psd \u001b[38;5;241m=\u001b[39m (u_f \u001b[38;5;241m*\u001b[39m np\u001b[38;5;241m.\u001b[39mconj(u_f))\u001b[38;5;241m.\u001b[39mreal\n",
      "File \u001b[0;32m~/miniconda/envs/asvspoof/lib/python3.10/site-packages/scipy/signal/_filter_design.py:481\u001b[0m, in \u001b[0;36mfreqz\u001b[0;34m(***failed resolving arguments***)\u001b[0m\n\u001b[1;32m    478\u001b[0m \u001b[38;5;28;01mif\u001b[39;00m h \u001b[38;5;129;01mis\u001b[39;00m \u001b[38;5;28;01mNone\u001b[39;00m:  \u001b[38;5;66;03m# still need to compute using freqs w\u001b[39;00m\n\u001b[1;32m    479\u001b[0m     zm1 \u001b[38;5;241m=\u001b[39m exp(\u001b[38;5;241m-\u001b[39m\u001b[38;5;241m1\u001b[39mj \u001b[38;5;241m*\u001b[39m w)\n\u001b[1;32m    480\u001b[0m     h \u001b[38;5;241m=\u001b[39m (npp_polyval(zm1, b, tensor\u001b[38;5;241m=\u001b[39m\u001b[38;5;28;01mFalse\u001b[39;00m) \u001b[38;5;241m/\u001b[39m\n\u001b[0;32m--> 481\u001b[0m          \u001b[43mnpp_polyval\u001b[49m\u001b[43m(\u001b[49m\u001b[43mzm1\u001b[49m\u001b[43m,\u001b[49m\u001b[43m \u001b[49m\u001b[43ma\u001b[49m\u001b[43m,\u001b[49m\u001b[43m \u001b[49m\u001b[43mtensor\u001b[49m\u001b[38;5;241;43m=\u001b[39;49m\u001b[38;5;28;43;01mFalse\u001b[39;49;00m\u001b[43m)\u001b[49m)\n\u001b[1;32m    483\u001b[0m w \u001b[38;5;241m=\u001b[39m w\u001b[38;5;241m*\u001b[39mfs\u001b[38;5;241m/\u001b[39m(\u001b[38;5;241m2\u001b[39m\u001b[38;5;241m*\u001b[39mpi)\n\u001b[1;32m    485\u001b[0m \u001b[38;5;28;01mif\u001b[39;00m plot \u001b[38;5;129;01mis\u001b[39;00m \u001b[38;5;129;01mnot\u001b[39;00m \u001b[38;5;28;01mNone\u001b[39;00m:\n",
      "File \u001b[0;32m~/miniconda/envs/asvspoof/lib/python3.10/site-packages/numpy/polynomial/polynomial.py:754\u001b[0m, in \u001b[0;36mpolyval\u001b[0;34m(x, c, tensor)\u001b[0m\n\u001b[1;32m    751\u001b[0m \u001b[38;5;28;01mif\u001b[39;00m \u001b[38;5;28misinstance\u001b[39m(x, np\u001b[38;5;241m.\u001b[39mndarray) \u001b[38;5;129;01mand\u001b[39;00m tensor:\n\u001b[1;32m    752\u001b[0m     c \u001b[38;5;241m=\u001b[39m c\u001b[38;5;241m.\u001b[39mreshape(c\u001b[38;5;241m.\u001b[39mshape \u001b[38;5;241m+\u001b[39m (\u001b[38;5;241m1\u001b[39m,)\u001b[38;5;241m*\u001b[39mx\u001b[38;5;241m.\u001b[39mndim)\n\u001b[0;32m--> 754\u001b[0m c0 \u001b[38;5;241m=\u001b[39m \u001b[43mc\u001b[49m\u001b[43m[\u001b[49m\u001b[38;5;241;43m-\u001b[39;49m\u001b[38;5;241;43m1\u001b[39;49m\u001b[43m]\u001b[49m \u001b[38;5;241m+\u001b[39m x\u001b[38;5;241m*\u001b[39m\u001b[38;5;241m0\u001b[39m\n\u001b[1;32m    755\u001b[0m \u001b[38;5;28;01mfor\u001b[39;00m i \u001b[38;5;129;01min\u001b[39;00m \u001b[38;5;28mrange\u001b[39m(\u001b[38;5;241m2\u001b[39m, \u001b[38;5;28mlen\u001b[39m(c) \u001b[38;5;241m+\u001b[39m \u001b[38;5;241m1\u001b[39m):\n\u001b[1;32m    756\u001b[0m     c0 \u001b[38;5;241m=\u001b[39m c[\u001b[38;5;241m-\u001b[39mi] \u001b[38;5;241m+\u001b[39m c0\u001b[38;5;241m*\u001b[39mx\n",
      "\u001b[0;31mIndexError\u001b[0m: index -1 is out of bounds for axis 0 with size 0"
     ]
    }
   ],
   "source": [
    "CHUNKS = 10\n",
    "N = len(out_train)\n",
    "CHUNK_SIZE = N // CHUNKS\n",
    "FFT_HALF_SIZE = CHUNK_SIZE // 2 + 1\n",
    "\n",
    "\n",
    "order = orders[min_error_idx]\n",
    "estimated_coeffs = coeffs[min_error_idx]\n",
    "b, a = estimated_coeffs[:order + 1], estimated_coeffs[order + 1:]\n",
    "\n",
    "def psd(signal):\n",
    "  s_chunks = np.reshape(signal, (CHUNKS, CHUNK_SIZE))\n",
    "  \n",
    "  chunks_spectrum = np.fft.fft(s_chunks, axis=1)[:, : FFT_HALF_SIZE]\n",
    "\n",
    "  return np.mean((chunks_spectrum * np.conj(chunks_spectrum)).real, axis=0)\n",
    "\n",
    "e_pds = np.ones((FFT_HALF_SIZE))\n",
    "in_psd = psd(in_train)\n",
    "out_psd = psd(out_train)\n",
    "\n",
    "print(out_psd.shape)\n",
    "\n",
    "w1, u_f = signal.freqz(b, a, worN=FFT_HALF_SIZE)\n",
    "w2, e_f = signal.freqz([1], a, worN=FFT_HALF_SIZE)\n",
    "\n",
    "u_h_psd = (u_f * np.conj(u_f)).real\n",
    "e_h_psd = (e_f * np.conj(e_f)).real\n",
    "\n",
    "\n",
    "right_side = in_psd * u_h_psd + e_pds * e_h_psd\n",
    "\n",
    "plt.plot(right_side)\n",
    "plt.plot(out_psd)\n"
   ]
  },
  {
   "cell_type": "markdown",
   "id": "eae38fd5",
   "metadata": {},
   "source": [
    "## 2 Pen task \n",
    "\n",
    "### a) 2p\n",
    "Show for the Discrete Time Fourier Transform (DTFT), that convolution in the time domain leads to multiplication in the frequency domain, i.e, \n",
    "\\begin{equation}\n",
    "\\widehat{(f*g)[n]}(\\omega)=\\sum_{n=-\\infty}^{\\infty}\\sum_{k=-\\infty}^{\\infty}f[k]g[n-k] e^{-j\\omega kT_s}\n",
    "=\\widehat{g[n]}(\\omega)\\widehat{g[n]}\n",
    "\\end{equation} \n",
    "where, $\\widehat{\\cdot}$ means application of the DTFT. \n",
    "*Hint*\n",
    "First show that for a shift, we have\n",
    "\\begin{equation}\n",
    "\\widehat{g[n-k]}(\\omega)= \\sum_{n=-\\infty}^{\\infty}g[n-k]e^{-j\\omega kT_s }=e^{-j\\omega T_sk}\\sum_{n'=-\\infty}^{\\infty}g[n']e^{-j\\omega n'}=\\widehat{g[n]}(\\omega)e^{-j\\omega T_sk}.\n",
    "\\end{equation}"
   ]
  },
  {
   "cell_type": "markdown",
   "id": "6e69d3c6",
   "metadata": {},
   "source": [
    "## 2 - Solution\n",
    "\n",
    "### DTFT - shift\n",
    "\n",
    "The definition of DTFT:\n",
    "\n",
    "$$\\widehat{g[n]}(\\omega)= \\sum_{n=-\\infty}^{\\infty}g[n]e^{-j\\omega nT_s }$$\n",
    "\n",
    "For the shifted signal we get:\n",
    "\n",
    "$$\\widehat{g[n-k]}(\\omega)= \\sum_{n=-\\infty}^{\\infty}g[n-k]e^{-j\\omega nT_s }$$\n",
    "\n",
    "We can substitue $n' = n - k$ and therefore $n = n' + k$. The euqation can be rewritten as:\n",
    "\n",
    "$$\\widehat{g[n-k]}(\\omega)= \\sum_{n'=-\\infty}^{\\infty}g[n']e^{-j\\omega (n'+ k)T_s } = \\sum_{n'=-\\infty}^{\\infty}g[n']e^{-j\\omega n'T_s } e^{-j\\omega kT_s }$$\n",
    "\n",
    "The term $e^{-j\\omega kT_s}$ does not depend on $n'$ therefore it can be factored out:\n",
    "\n",
    "$$\\sum_{n'=-\\infty}^{\\infty}g[n']e^{-j\\omega n'T_s } e^{-j\\omega kT_s } = e^{-j\\omega kT_s } \\sum_{n'=-\\infty}^{\\infty}g[n']e^{-j\\omega n'T_s }$$\n",
    "\n",
    "The conclusion is that calculating DTFT of a negatively shifted signal is exactly the same as calculating DTFT\n",
    "of a non shifted signal and subtracting $wkT_s$ from its phase.\n",
    "\n",
    "$$\\widehat{g[n-k]}(\\omega)= \\widehat{g[n]}(\\omega)e^{-j\\omega kT_s }$$\n",
    "\n",
    "### Convolution in time, multiplication in frequency\n",
    "\n",
    "The definition of convolution:\n",
    "\n",
    "$$(f*g)[n]=\\sum_{k=-\\infty}^{\\infty}f[k]g[n-k]$$\n",
    "\n",
    "When the DTFT is applied on the result of a convolution we get following equation:\n",
    "\n",
    "$$\\widehat{(f*g)[n]}(\\omega)=\\sum_{n=-\\infty}^{\\infty}(\\sum_{k=-\\infty}^{\\infty}f[k]g[n-k]) e^{-j\\omega nT_s}$$\n",
    "\n",
    "Here, however, we can change the order of sums and reorder the terms, e.g., $f[k]$ is independent of $n$:\n",
    "\n",
    "$$\\widehat{(f*g)[n]}(\\omega)=\\sum_{k=-\\infty}^{\\infty}f[k]\\sum_{n=-\\infty}^{\\infty}g[n-k]e^{-j\\omega nT_s}$$\n",
    "\n",
    "The second part of the equation can be rewritten according to the conclusion we've come to in the first part of this proof (DTFT of shifted signal):\n",
    "\n",
    "$$\\widehat{(f*g)[n]}(\\omega)=\\sum_{k=-\\infty}^{\\infty}f[k]\\widehat{g[n]}(\\omega)e^{-j\\omega kT_s }$$\n",
    "\n",
    "Now the $\\widehat{g[n]}(\\omega)$ becomes independent of $k$ and the rest of the term is the exact definition of DTFT. From that we can see that the convolution between two signals in time domain results in multiplication of their spectrums. \n",
    "\n",
    "$$\\widehat{(f*g)[n]}(\\omega)=\\widehat{f[n]}(\\omega)\\widehat{g[n]}(\\omega)$$"
   ]
  }
 ],
 "metadata": {
  "kernelspec": {
   "display_name": "asvspoof",
   "language": "python",
   "name": "python3"
  },
  "language_info": {
   "codemirror_mode": {
    "name": "ipython",
    "version": 3
   },
   "file_extension": ".py",
   "mimetype": "text/x-python",
   "name": "python",
   "nbconvert_exporter": "python",
   "pygments_lexer": "ipython3",
   "version": "3.10.13"
  }
 },
 "nbformat": 4,
 "nbformat_minor": 5
}
